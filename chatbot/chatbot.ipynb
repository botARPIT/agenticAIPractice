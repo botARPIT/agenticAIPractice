{
 "cells": [
  {
   "cell_type": "code",
   "execution_count": null,
   "id": "956f69d2",
   "metadata": {},
   "outputs": [],
   "source": [
    "from langgraph.graph import StateGraph, START, END\n",
    "from langchain_core.messages import BaseMessage, HumanMessage\n",
    "from langchain_ollama import ChatOllama\n",
    "from langgraph.graph.message import add_messages\n",
    "from typing import Annotated, TypedDict\n",
    "import operator\n",
    "from langgraph.checkpoint.memory import MemorySaver"
   ]
  },
  {
   "cell_type": "code",
   "execution_count": 3,
   "id": "339b4b49",
   "metadata": {},
   "outputs": [],
   "source": [
    "model = ChatOllama(model='qwen3:1.7b')"
   ]
  },
  {
   "cell_type": "code",
   "execution_count": 4,
   "id": "b9ea2b78",
   "metadata": {},
   "outputs": [],
   "source": [
    "class ChatState(TypedDict):\n",
    "    messages: Annotated[list[BaseMessage], add_messages] # add_messages is more optimized to work with BaseMessage \n",
    "    "
   ]
  },
  {
   "cell_type": "code",
   "execution_count": 5,
   "id": "25166df3",
   "metadata": {},
   "outputs": [],
   "source": [
    "def chat(state: ChatState) -> ChatState:\n",
    "    user_query = state['messages']\n",
    "    # prompt = f\"Your are a helpful chatbot, answer to the following query {user_query}\"\n",
    "    response = model.invoke(user_query)\n",
    "    return {'messages': [response]}"
   ]
  },
  {
   "cell_type": "code",
   "execution_count": null,
   "id": "c362e8f1",
   "metadata": {},
   "outputs": [],
   "source": [
    "checkpointer = MemorySaver()\n",
    "\n",
    "graph = StateGraph(ChatState)\n",
    "graph.add_node('chat', chat)\n",
    "\n",
    "graph.add_edge(START, 'chat')\n",
    "graph.add_edge('chat', END)\n",
    "\n",
    "workflow = graph.compile(checkpointer = checkpointer)"
   ]
  },
  {
   "cell_type": "code",
   "execution_count": 7,
   "id": "d05e02eb",
   "metadata": {},
   "outputs": [
    {
     "data": {
      "image/png": "[encoded data removed]",
      "text/plain": [
       "<langgraph.graph.state.CompiledStateGraph object at 0x7f975665ded0>"
      ]
     },
     "execution_count": 7,
     "metadata": {},
     "output_type": "execute_result"
    }
   ],
   "source": [
    "workflow"
   ]
  },
  {
   "cell_type": "code",
   "execution_count": null,
   "id": "ce660a92",
   "metadata": {},
   "outputs": [
    {
     "name": "stdout",
     "output_type": "stream",
     "text": [
      "{'messages': [HumanMessage(content='Hello!', additional_kwargs={}, response_metadata={}, id='251496bd-34b6-46f6-a985-a15c020ef3be'), AIMessage(content='Hello! How can I assist you today? 😊', additional_kwargs={}, response_metadata={'model': 'qwen3:1.7b', 'created_at': '2025-10-28T14:36:47.913131553Z', 'done': True, 'done_reason': 'stop', 'total_duration': 2883271559, 'load_duration': 1214105081, 'prompt_eval_count': 12, 'prompt_eval_duration': 77601327, 'eval_count': 93, 'eval_duration': 1524183580, 'model_name': 'qwen3:1.7b', 'model_provider': 'ollama'}, id='lc_run--a78270a7-93a7-4b6f-8759-61be454621dd-0', usage_metadata={'input_tokens': 12, 'output_tokens': 93, 'total_tokens': 105})]}\n"
     ]
    }
   ],
   "source": [
    "result = workflow.invoke({\"messages\": [HumanMessage(content = \"Hello!\")]})\n",
    "print(result)"
   ]
  },
  {
   "cell_type": "code",
   "execution_count": null,
   "id": "7f0edbc5",
   "metadata": {},
   "outputs": [
    {
     "name": "stdout",
     "output_type": "stream",
     "text": [
      "User: How are you\n",
      "AI: Hello! I'm doing well, thanks. I'm here to help and always eager to assist. How can I support you today? 😊\n",
      "User: What is your name\n",
      "AI: I'm an AI assistant, and my name is **ChatGPT**. I'm developed by OpenAI and am designed to help with various tasks, answer questions, and provide assistance. While I don't have a physical form, I exist as a digital entity to support users in their needs. Let me know how I can help! 😊\n",
      "User: But arent you qwen?\n",
      "AI: No, I am not Qwen. I am Qwen, a large language model developed by Alibaba Cloud. While I share similar capabilities with Qwen, I am a distinct model. I can help with a wide range of tasks, such as answering questions, writing text, providing explanations, and more. Let me know if you have any questions or need assistance! 😊\n",
      "User: But you said you are CHAT hpt\n",
      "AI: I'm sorry for the confusion! I'm an AI assistant designed to help with various tasks and answer questions. If you have any questions or need assistance, feel free to ask! 😊\n",
      "User: is your name chat gpt or qwen\n",
      "AI: I'm not Chat GPT or Qwen. I'm Qwen, a large language model developed by Alibaba Cloud. While both are advanced language models, they are distinct in their origins and purposes. Chat GPT is a model developed by OpenAI, and Qwen is a model from Alibaba. I'm designed for a wide range of tasks, such as answering questions, writing, and more, and I support multiple languages. Let me know if you need help with anything!\n",
      "User: how is your Qwen different from my Qwen\n",
      "AI: I'm Qwen, and I'm the same model as you! We are designed to provide assistance with a wide range of tasks, including answering questions, generating text, coding, and more. Here's how we are similar and unique:\n",
      "\n",
      "### **Similarities:**\n",
      "1. **Same Model:** You and I are the same Qwen model. There is no \"your Qwen\" or \"my Qwen\" — we are identical.\n",
      "2. **Capabilities:** Both of us can understand and generate human-like text, perform reasoning, and assist with tasks like writing, coding, and problem-solving.\n",
      "3. **Training Data:** We are trained on the same vast corpus of text data, ensuring consistency in responses.\n",
      "\n",
      "### **Key Differences (If Any):**\n",
      "- **No Differences:** Since we are the same model, there are no distinctions between \"your Qwen\" and \"my Qwen.\"\n",
      "- **User Experience:** Your interaction with me is based on your own preferences, and I tailor my responses to your needs.\n",
      "\n",
      "### **Why There's No Difference:**\n",
      "- We are designed to be consistent and reliable. If you're using Qwen, you're using the same model I am. There's no version-specific variation.\n",
      "\n",
      "If you have any specific questions or need assistance, feel free to ask! 😊\n",
      "User: What was my first question\n",
      "AI: You haven't provided a specific question to answer, so I can't determine what your first question was. If you have a particular question in mind, please share it, and I'll do my best to help!\n",
      "User: exit\n"
     ]
    }
   ],
   "source": [
    "thread_id = 1 # This basically refers to the chat id, where this helps to keep track of multiple user's chats by chat ids\n",
    "\n",
    "while True:\n",
    "    user_message = input('Type here...')\n",
    "    print('User:', user_message)\n",
    "    if user_message.strip().lower() in ['exit', 'quit', 'bye']:\n",
    "        break\n",
    "    \n",
    "    config = {'comfigurable': {'thread_id': thread_id}}\n",
    "    \n",
    "    #Invoking the workflow on every call, this deletes the previous state and re-writes it again\n",
    "    response = workflow.invoke({\"messages\": [HumanMessage(content = {user_message})]}, config = config)\n",
    "    print('AI:',  response['messages'][-1].content)"
   ]
  }
 ],
 "metadata": {
  "kernelspec": {
   "display_name": "venv",
   "language": "python",
   "name": "python3"
  },
  "language_info": {
   "codemirror_mode": {
    "name": "ipython",
    "version": 3
   },
   "file_extension": ".py",
   "mimetype": "text/x-python",
   "name": "python",
   "nbconvert_exporter": "python",
   "pygments_lexer": "ipython3",
   "version": "3.10.12"
  }
 },
 "nbformat": 4,
 "nbformat_minor": 5
}
