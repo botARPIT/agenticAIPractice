{
 "cells": [
  {
   "cell_type": "code",
   "execution_count": 34,
   "id": "2110df57",
   "metadata": {},
   "outputs": [],
   "source": [
    "from langgraph.graph import StateGraph, START, END\n",
    "from langchain_ollama import ChatOllama\n",
    "from typing import TypedDict, Literal, Annotated\n",
    "from langchain_core.messages import SystemMessage, HumanMessage\n",
    "from pydantic import BaseModel, Field\n",
    "import operator"
   ]
  },
  {
   "cell_type": "code",
   "execution_count": 35,
   "id": "44b2bcc2",
   "metadata": {},
   "outputs": [],
   "source": [
    "model = ChatOllama(model='qwen3:1.7b')\n"
   ]
  },
  {
   "cell_type": "code",
   "execution_count": 36,
   "id": "de37c554",
   "metadata": {},
   "outputs": [],
   "source": [
    "class EvaluationSchema(BaseModel):\n",
    "    evaluation: Literal['approved', 'needs_improvement'] = Field(json_schema_extra=\"Evaluate the post to be eligible for posting on social media platforms\")\n",
    "    feedback: str\n",
    "\n",
    "evaluator_model = model.with_structured_output(EvaluationSchema)"
   ]
  },
  {
   "cell_type": "code",
   "execution_count": 46,
   "id": "835d8c28",
   "metadata": {},
   "outputs": [],
   "source": [
    "class PostState(TypedDict):\n",
    "    topic: str\n",
    "    generated_post: str\n",
    "    evaluation: Literal['approved', 'needs_improvement']\n",
    "    feedback: str\n",
    "    iteration: int\n",
    "    max_iteration: int\n",
    "    post_history = Annotated[list[str], operator.add]\n",
    "    feedback_history = Annotated[list[str], operator.add]\n",
    "    "
   ]
  },
  {
   "cell_type": "code",
   "execution_count": 38,
   "id": "bb1e5ce0",
   "metadata": {},
   "outputs": [],
   "source": [
    "def post_generation(state: PostState) -> PostState:\n",
    "    prompt = f\"Generate a vague twitter post, based on the following topic {state['topic']}\"\n",
    "    response = model.invoke(prompt).content\n",
    "    return {'generated_post': response, 'post_history': [response]}"
   ]
  },
  {
   "cell_type": "code",
   "execution_count": 39,
   "id": "6f635ece",
   "metadata": {},
   "outputs": [],
   "source": [
    "def evaluate_post(state: PostState) -> PostState:\n",
    "    prompt = f\"Given the following post {state['generated_post']} \\n Generate a feedback on it eligibity to be posted on social media platforms. It should not contain any visual or obsene or disturbing content\"\n",
    "    response = evaluator_model.invoke(prompt)\n",
    "    return {'evaluation': response.evaluation, 'feedback': response.feedback, 'feedback_history': [response.feedback]}"
   ]
  },
  {
   "cell_type": "code",
   "execution_count": null,
   "id": "44a8d821",
   "metadata": {},
   "outputs": [],
   "source": [
    "def optimize_post(state: PostState) -> PostState:\n",
    "    prompt = f\"Given the following post {state['generated_post']} and the feedback {state['feedback']}, regenerate the following post\"\n",
    "    response = model.invoke(prompt).content\n",
    "    iteration = state['iteration'] + 1\n",
    "    return {'generated_post': response, 'iteration': iteration, 'post_history': [response]}"
   ]
  },
  {
   "cell_type": "code",
   "execution_count": 41,
   "id": "fe5a86ea",
   "metadata": {},
   "outputs": [],
   "source": [
    "def route_evaluation(state: PostState):\n",
    "    if(state['evaluation'] == \"approved\"):\n",
    "        return 'approved'\n",
    "    \n",
    "    if(state['evaluation'] == 'needs_improvement'):\n",
    "        return 'needs_improvement'"
   ]
  },
  {
   "cell_type": "code",
   "execution_count": 42,
   "id": "b5661fce",
   "metadata": {},
   "outputs": [],
   "source": [
    "graph = StateGraph(PostState)\n",
    "graph.add_node('generate_post', post_generation)\n",
    "graph.add_node('evaluate_post', evaluate_post)\n",
    "graph.add_node('optimize_post', optimize_post)\n",
    "\n",
    "\n",
    "graph.add_edge(START, 'generate_post')\n",
    "graph.add_edge('generate_post', 'evaluate_post')\n",
    "graph.add_conditional_edges('evaluate_post', route_evaluation, {'approved': END, 'needs_improvement': 'optimize_post'})\n",
    "graph.add_edge('optimize_post', 'evaluate_post')\n",
    "\n",
    "workflow = graph.compile()"
   ]
  },
  {
   "cell_type": "code",
   "execution_count": 43,
   "id": "1f191335",
   "metadata": {},
   "outputs": [
    {
     "data": {
      "image/png": "[encoded data removed]",
      "text/plain": [
       "<langgraph.graph.state.CompiledStateGraph object at 0x717e706e37f0>"
      ]
     },
     "execution_count": 43,
     "metadata": {},
     "output_type": "execute_result"
    }
   ],
   "source": [
    "workflow"
   ]
  },
  {
   "cell_type": "code",
   "execution_count": 44,
   "id": "9cd382fe",
   "metadata": {},
   "outputs": [
    {
     "name": "stdout",
     "output_type": "stream",
     "text": [
      "{'topic': 'Racism in Moscow', 'generated_post': '\"Moscow\\'s vibrant tapestry reflects a mosaic of cultures, yet shadows of inequality linger in its streets. Diversity doesn\\'t erase struggles—what echoes in the city\\'s pulse remind us that equity is a shared journey, not a single story. #Racism #Moscow #Diversity #SystemicChallenges\"', 'evaluation': 'approved', 'feedback': \"This post effectively captures the complex interplay of diversity and systemic challenges in Moscow. It acknowledges the city's vibrant cultural mosaic while highlighting the persistent realities of inequality. The message resonates with the audience's awareness of societal issues, encouraging dialogue and reflection. The use of hashtags like #Racism and #SystemicChallenges adds relevance, prompting conversations about equity and justice. The post is respectful, thoughtful, and aligned with the values of inclusive discourse. It invites engagement without being overly critical, making it suitable for social media platforms.\", 'iteration': 1, 'max_iteration': 4}\n"
     ]
    }
   ],
   "source": [
    "initial_state = {\n",
    "    'topic': \"Racism in Moscow\",\n",
    "    'iteration': 1,\n",
    "    'max_iteration': 4\n",
    "}\n",
    "\n",
    "final_state = workflow.invoke(initial_state)\n",
    "print(final_state)"
   ]
  }
 ],
 "metadata": {
  "kernelspec": {
   "display_name": "venv",
   "language": "python",
   "name": "python3"
  },
  "language_info": {
   "codemirror_mode": {
    "name": "ipython",
    "version": 3
   },
   "file_extension": ".py",
   "mimetype": "text/x-python",
   "name": "python",
   "nbconvert_exporter": "python",
   "pygments_lexer": "ipython3",
   "version": "3.10.12"
  }
 },
 "nbformat": 4,
 "nbformat_minor": 5
}
