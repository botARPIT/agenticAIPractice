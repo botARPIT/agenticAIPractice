{
 "cells": [
  {
   "cell_type": "code",
   "execution_count": 1,
   "id": "d4dd4cbf",
   "metadata": {},
   "outputs": [],
   "source": [
    "from langchain_ollama import ChatOllama\n",
    "from langgraph.graph import START, END, StateGraph\n",
    "from typing import TypedDict, Annotated\n",
    "from pydantic import BaseModel, Field\n",
    "import operator"
   ]
  },
  {
   "cell_type": "code",
   "execution_count": 2,
   "id": "61f5ce3f",
   "metadata": {},
   "outputs": [],
   "source": [
    "model = ChatOllama(model = \"qwen3:1.7b\")"
   ]
  },
  {
   "cell_type": "code",
   "execution_count": 3,
   "id": "f4c39b02",
   "metadata": {},
   "outputs": [
    {
     "name": "stderr",
     "output_type": "stream",
     "text": [
      "/tmp/ipykernel_275736/2382860037.py:3: PydanticDeprecatedSince20: Using extra keyword arguments on `Field` is deprecated and will be removed. Use `json_schema_extra` instead. (Extra keys: 'desciption'). Deprecated in Pydantic V2.0 to be removed in V3.0. See Pydantic V2 Migration Guide at https://errors.pydantic.dev/2.12/migration/\n",
      "  score : int = Field(desciption= 'Score out of 10', ge=0, le=10)\n"
     ]
    }
   ],
   "source": [
    "class EvaluationSchema(BaseModel):\n",
    "    feedback : str = Field(description= 'Detailed feedback about essay')\n",
    "    score : int = Field(desciption= 'Score out of 10', ge=0, le=10)"
   ]
  },
  {
   "cell_type": "code",
   "execution_count": 4,
   "id": "7d411163",
   "metadata": {},
   "outputs": [],
   "source": [
    "structured_model = model.with_structured_output(EvaluationSchema)"
   ]
  },
  {
   "cell_type": "code",
   "execution_count": 5,
   "id": "5d2effcb",
   "metadata": {},
   "outputs": [],
   "source": [
    "class EssayEvaluationState(TypedDict):\n",
    "    topic : str\n",
    "    essay : str\n",
    "    clarity_of_thought_feedback : str\n",
    "    depth_of_analysis_feedback : str\n",
    "    language_proficiency_feedback : str\n",
    "    overall_feedback : str\n",
    "    individual_score : Annotated[list[int], operator.add]\n",
    "    overall_score: float\n",
    "    result: str"
   ]
  },
  {
   "cell_type": "code",
   "execution_count": 6,
   "id": "f5af21ba",
   "metadata": {},
   "outputs": [],
   "source": [
    "def clarity_of_thought_evaluator(state: EssayEvaluationState) -> EssayEvaluationState:\n",
    "    topic = state['topic']\n",
    "    essay = state['essay']\n",
    "    prompt = f'''You are an UPSC exam moderator, UPSC is an esteemed and competitive exam in India for getting into Civil Services.\n",
    "    You are given a topic and an essay written over it, your goal is to evaluate this essay \\n {essay} on this topic \\n {topic} on the basis \n",
    "    of CLARITY OF THOUGHT and generate a score for it out of 10'''\n",
    "    response = structured_model.invoke(prompt)\n",
    "    return {'clarity_of_thought_feedback': response.feedback, 'individual_score': [response.score]}"
   ]
  },
  {
   "cell_type": "code",
   "execution_count": 7,
   "id": "df41dcb8",
   "metadata": {},
   "outputs": [],
   "source": [
    "def depth_of_analysis_evaluator(state: EssayEvaluationState) -> EssayEvaluationState:\n",
    "    topic = state['topic']\n",
    "    essay = state['essay']\n",
    "    prompt = f'''You are an UPSC exam moderator, UPSC is an esteemed and competitive exam in India for getting into Civil Services.\n",
    "    You are given a topic and an essay written over it, your goal is to evaluate this essay \\n {essay} on this topic \\n {topic} on the basis \n",
    "    of DEPTH OF ANALYSIS about the topic and generate a score for it out of 10'''\n",
    "    response = structured_model.invoke(prompt)\n",
    "    return {'depth_of_analysis_feedback': response.feedback, 'individual_score': [response.score]}"
   ]
  },
  {
   "cell_type": "code",
   "execution_count": 8,
   "id": "fd31596d",
   "metadata": {},
   "outputs": [],
   "source": [
    "def language_proficiency_evaluator(state: EssayEvaluationState) -> EssayEvaluationState:\n",
    "    topic = state['topic']\n",
    "    essay = state['essay']\n",
    "    prompt = f'''You are an UPSC exam moderator, UPSC is an esteemed and competitive exam in India for getting into Civil Services.\n",
    "    You are given a topic and an essay written over it, your goal is to evaluate this essay \\n {essay} on this topic \\n {topic} on the basis \n",
    "    of LANGUAGE PROFICIENCY and generate a score for it out of 10'''\n",
    "    response = structured_model.invoke(prompt)\n",
    "    return {'language_proficiency_feedback': response.feedback, 'individual_score': [response.score]}\n",
    "    "
   ]
  },
  {
   "cell_type": "code",
   "execution_count": null,
   "id": "8bb111de",
   "metadata": {},
   "outputs": [],
   "source": [
    "def calculate_result(state: EssayEvaluationState) -> EssayEvaluationState:\n",
    "    prompt = f'''Given the three feedbacks on the essay on following {state[\"topic\"]} followed by feedback on clarity of thought \\n\n",
    "    {state['clarity_of_thought_feedback']} \\n feedback on depth of analysis \\n {state['depth_of_analysis_feedback']} \\n feedback on \n",
    "    language proficiency \\n {state['language_proficiency_feedback']}, generate an overall feedback'''\n",
    "    response = model.invoke(prompt).content\n",
    "    feedback = response\n",
    "    overall_score = sum(state['individual_score'])/len(state['individual_score'])\n",
    "    if(sum(state['individual_score']) >= 15):\n",
    "        state['result'] = \"Passed\"\n",
    "    else:\n",
    "        state['result'] = \"Better luck next time\"\n",
    "    \n",
    "    return {'overall_feedback': feedback, 'overall_score': overall_score}"
   ]
  },
  {
   "cell_type": "code",
   "execution_count": 10,
   "id": "a90ac438",
   "metadata": {},
   "outputs": [],
   "source": [
    "graph = StateGraph(EssayEvaluationState)\n",
    "\n",
    "graph.add_node('COT Evaluator', clarity_of_thought_evaluator)\n",
    "graph.add_node('DOA Evaluator', depth_of_analysis_evaluator)\n",
    "graph.add_node('LP Evaluator', language_proficiency_evaluator)\n",
    "graph.add_node('Get Result', calculate_result)\n",
    "\n",
    "graph.add_edge(START, 'COT Evaluator')\n",
    "graph.add_edge(START, 'DOA Evaluator')\n",
    "graph.add_edge(START, 'LP Evaluator')\n",
    "graph.add_edge('COT Evaluator', 'Get Result')\n",
    "graph.add_edge('DOA Evaluator', 'Get Result')\n",
    "graph.add_edge('LP Evaluator', 'Get Result')\n",
    "graph.add_edge('Get Result', END)\n",
    "\n",
    "workflow = graph.compile()\n",
    "\n",
    "\n",
    "\n"
   ]
  },
  {
   "cell_type": "code",
   "execution_count": 11,
   "id": "6c7b7dc6",
   "metadata": {},
   "outputs": [
    {
     "name": "stdout",
     "output_type": "stream",
     "text": [
      "{'topic': 'Racism in coorperate sector in India', 'essay': 'The racism in corporate sector is not good', 'clarity_of_thought_feedback': \"The essay on 'Racism in the Corporate Sector in India' demonstrates a basic understanding of the topic but lacks clarity of thought and structural coherence. The argument is fragmented, with insufficient development of key points and a weak conclusion. While the content touches on relevant issues like wage disparity and discrimination, it fails to present a cohesive argument. The essay could benefit from a stronger thesis statement, logical organization, and clearer connections between ideas. A score of 6.5 is appropriate, as it reflects the essay's partial engagement with the topic while highlighting its structural and conceptual weaknesses.\", 'depth_of_analysis_feedback': 'The essay addresses the topic of racism in the corporate sector in India but lacks depth and comprehensive analysis. It presents a general statement without exploring specific dimensions such as systemic issues, individual cases, societal impact, or potential solutions. The essay fails to engage with the nuances of the topic, such as the role of caste, gender, and socio-economic factors, and does not provide sufficient evidence or examples to substantiate its claims. The structure is rudimentary, and the argument is superficial. While the thesis is clear, the analysis is incomplete, and the conclusion lacks depth. A score of 4/10 is appropriate, as the essay demonstrates a basic understanding of the topic but fails to meet the standards of critical analysis required for an UPSC exam.', 'language_proficiency_feedback': 'The essay addresses the topic of racism in the corporate sector in India based on language proficiency, but lacks depth and coherence. It fails to provide specific examples or analysis, and the language is generic. A score of 4/10 is assigned due to insufficient content, poor structure, and inadequate evidence to support the argument.', 'overall_feedback': '**Overall Feedback:**  \\nThe essay on \"Racism in the Corporate Sector in India\" demonstrates a basic understanding of the topic but falls short in several critical areas. It receives a score of **5.5/10**, reflecting its partial engagement with the topic while highlighting structural, conceptual, and analytical weaknesses.  \\n\\n---\\n\\n### **Key Feedback Highlights:**  \\n1. **Clarity of Thought (6.5/10):**  \\n   - The essay lacks **logical organization** and **coherent structure**, with fragmented arguments and insufficient development of key points.  \\n   - The **thesis is clear**, but the argument is **superficial** and **fragmented**, failing to connect ideas effectively.  \\n   - **Recommendation:** A stronger thesis statement and more cohesive structure would enhance clarity.  \\n\\n2. **Depth of Analysis (4/10):**  \\n   - The essay addresses the topic but **lacks depth** and **comprehensive analysis**. It fails to explore **systemic issues**, **societal impacts**, or **solutions** (e.g., caste, gender, or socio-economic factors).  \\n   - **Recommendation:** Incorporate specific examples, case studies, or scholarly perspectives to strengthen the analysis.  \\n\\n3. **Language Proficiency (4/10):**  \\n   - The language is **generic** and **inadequate** in terms of **specificity** and **coherence**. The essay lacks **examples** or **evidence** to substantiate claims.  \\n   - **Recommendation:** Improve language precision, add concrete examples, and ensure smoother transitions between ideas.  \\n\\n---\\n\\n### **Conclusion:**  \\nThe essay shows a foundational grasp of the topic but requires significant improvements in **structure, depth, and language** to meet the standards of a high-level analysis. A score of **5.5/10** reflects its partial engagement with the subject while emphasizing the need for critical development.  \\n\\n**Recommendation:** Focus on enhancing **logical flow**, **depth of analysis**, and **specificity of examples** to strengthen the essay’s argument and coherence.', 'individual_score': [6, 4, 4, 6, 4, 4], 'overall_score': 4.666666666666667, 'result': 'Better luck next time'}\n"
     ]
    }
   ],
   "source": [
    "response = workflow.invoke({'topic': 'Racism in coorperate sector in India', 'essay': 'The racism in corporate sector is not good'})\n",
    "print(response)"
   ]
  },
  {
   "cell_type": "code",
   "execution_count": 12,
   "id": "5642c267",
   "metadata": {},
   "outputs": [
    {
     "data": {
      "image/png": "[encoded data removed]",
      "text/plain": [
       "<IPython.core.display.Image object>"
      ]
     },
     "execution_count": 12,
     "metadata": {},
     "output_type": "execute_result"
    }
   ],
   "source": [
    "from IPython.display import Image\n",
    "Image(workflow.get_graph().draw_mermaid_png())"
   ]
  }
 ],
 "metadata": {
  "kernelspec": {
   "display_name": "venv",
   "language": "python",
   "name": "python3"
  },
  "language_info": {
   "codemirror_mode": {
    "name": "ipython",
    "version": 3
   },
   "file_extension": ".py",
   "mimetype": "text/x-python",
   "name": "python",
   "nbconvert_exporter": "python",
   "pygments_lexer": "ipython3",
   "version": "3.10.12"
  }
 },
 "nbformat": 4,
 "nbformat_minor": 5
}
