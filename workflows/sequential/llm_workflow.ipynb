{
 "cells": [
  {
   "cell_type": "code",
   "execution_count": 29,
   "id": "7ad26bbe",
   "metadata": {},
   "outputs": [],
   "source": [
    "# This is a sequential workflow that uses LLM\n",
    "\n",
    "from langchain_ollama import ChatOllama\n",
    "from langgraph.graph import StateGraph, START, END\n",
    "from typing import TypedDict\n",
    "\n"
   ]
  },
  {
   "cell_type": "code",
   "execution_count": 30,
   "id": "6053b3a5",
   "metadata": {},
   "outputs": [
    {
     "name": "stdout",
     "output_type": "stream",
     "text": [
      "Hey there! 😊 How's your day going? I'm doing great, thanks! How about you? Let me know if you need any help—whether it's chatting, brainstorming, or just want to talk! 🌟\n"
     ]
    }
   ],
   "source": [
    "model = ChatOllama(model = 'qwen3:1.7b')\n",
    "response = model.invoke(\"Whats up\")\n",
    "print(response.content)\n",
    "\n"
   ]
  },
  {
   "cell_type": "code",
   "execution_count": 31,
   "id": "211ec878",
   "metadata": {},
   "outputs": [],
   "source": [
    "class QAState(TypedDict):\n",
    "    message : str\n",
    "    response : str"
   ]
  },
  {
   "cell_type": "code",
   "execution_count": null,
   "id": "2dac0540",
   "metadata": {},
   "outputs": [],
   "source": [
    "def query_to_llm(state: QAState):\n",
    "    message = state['message']\n",
    "    response = model.invoke(message).content\n",
    "    state['response'] = response\n",
    "    return state"
   ]
  },
  {
   "cell_type": "code",
   "execution_count": 33,
   "id": "e04f1fed",
   "metadata": {},
   "outputs": [],
   "source": [
    "# Defining the entire graph\n",
    "graph = StateGraph(QAState)\n",
    "graph.add_node('query_to_llm', query_to_llm)\n",
    "graph.add_edge(START, 'query_to_llm')\n",
    "graph.add_edge('query_to_llm', END)\n",
    "workflow = graph.compile()"
   ]
  },
  {
   "cell_type": "code",
   "execution_count": 34,
   "id": "46f276cc",
   "metadata": {},
   "outputs": [
    {
     "data": {
      "text/plain": [
       "{'message': 'Capital of St Petersburg',\n",
       " 'response': \"The capital of St Petersburg is **St Petersburg itself**. St Petersburg is a city in Russia, and its capital is the city itself. However, it's worth noting that the capital of the Russian Federation (the country) is **Moscow**. If you're asking about the capital of the city of St Petersburg, the answer is simply **St Petersburg**. Let me know if you meant something else!\"}"
      ]
     },
     "execution_count": 34,
     "metadata": {},
     "output_type": "execute_result"
    }
   ],
   "source": [
    "workflow.invoke({\"message\": \"Capital of St Petersburg\"})"
   ]
  }
 ],
 "metadata": {
  "kernelspec": {
   "display_name": "venv",
   "language": "python",
   "name": "python3"
  },
  "language_info": {
   "codemirror_mode": {
    "name": "ipython",
    "version": 3
   },
   "file_extension": ".py",
   "mimetype": "text/x-python",
   "name": "python",
   "nbconvert_exporter": "python",
   "pygments_lexer": "ipython3",
   "version": "3.10.12"
  }
 },
 "nbformat": 4,
 "nbformat_minor": 5
}
