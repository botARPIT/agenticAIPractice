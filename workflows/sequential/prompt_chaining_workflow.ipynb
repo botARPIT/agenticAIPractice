{
 "cells": [
  {
   "cell_type": "code",
   "execution_count": null,
   "id": "84ba3f35",
   "metadata": {},
   "outputs": [],
   "source": [
    "from langchain_ollama import ChatOllama\n",
    "from langgraph.graph import StateGraph, START, END\n",
    "from typing import TypedDict"
   ]
  },
  {
   "cell_type": "code",
   "execution_count": null,
   "id": "41466f6a",
   "metadata": {},
   "outputs": [],
   "source": [
    "model = ChatOllama(model = \"qwen3:1.7b\")"
   ]
  },
  {
   "cell_type": "code",
   "execution_count": null,
   "id": "f094dfc6",
   "metadata": {},
   "outputs": [],
   "source": [
    "class WorkflowState(TypedDict):\n",
    "    topic: str\n",
    "    blog_outline: str\n",
    "    final_blog: str"
   ]
  },
  {
   "cell_type": "code",
   "execution_count": null,
   "id": "e87cae22",
   "metadata": {},
   "outputs": [],
   "source": [
    "def generateBlogOutline(state: WorkflowState) -> WorkflowState:\n",
    "    topic = state['topic']\n",
    "    outline_generation_prompt = f\"Generate a detailed outiline on the following topic {topic} for a blog\"\n",
    "    detailed_outline = model.invoke(outline_generation_prompt).content\n",
    "    state['blog_outline'] = detailed_outline\n",
    "    return state\n",
    "    \n",
    "    "
   ]
  },
  {
   "cell_type": "code",
   "execution_count": null,
   "id": "b487ca43",
   "metadata": {},
   "outputs": [],
   "source": [
    "def generateBlog(state: WorkflowState) -> WorkflowState:\n",
    "    topic = state['topic']\n",
    "    detailed_blog_outline = state['blog_outline']\n",
    "    blog_generation_prompt = f\"Generate a blog on the following topic {topic} and the provided outline {detailed_blog_outline} for it\"\n",
    "    blog = model.invoke(blog_generation_prompt).content\n",
    "    state['final_blog'] = blog\n",
    "    return state"
   ]
  },
  {
   "cell_type": "code",
   "execution_count": null,
   "id": "6264d5f4",
   "metadata": {},
   "outputs": [],
   "source": [
    "# Graph design\n",
    "graph = StateGraph(WorkflowState)\n",
    "graph.add_node('generate_blog_outline', generateBlogOutline)\n",
    "graph.add_node('generate_blog', generateBlog)\n",
    "\n",
    "graph.add_edge(START, 'generate_blog_outline')\n",
    "graph.add_edge('generate_blog_outline', 'generate_blog')\n",
    "graph.add_edge('generate_blog', END)\n",
    "\n",
    "workflow = graph.compile()\n"
   ]
  },
  {
   "cell_type": "code",
   "execution_count": null,
   "id": "f49be6c6",
   "metadata": {},
   "outputs": [],
   "source": [
    "initial_state = {\"topic\": \"Recent trends in technology\"}\n",
    "final_state = workflow.invoke(initial_state)\n",
    "print(final_state)"
   ]
  },
  {
   "cell_type": "code",
   "execution_count": null,
   "id": "d55d998d",
   "metadata": {},
   "outputs": [],
   "source": [
    "print(final_state['blog_outline'])"
   ]
  },
  {
   "cell_type": "code",
   "execution_count": null,
   "id": "b5954344",
   "metadata": {},
   "outputs": [],
   "source": [
    "print(final_state['final_blog'])"
   ]
  },
  {
   "cell_type": "code",
   "execution_count": null,
   "id": "43c41cd0",
   "metadata": {},
   "outputs": [],
   "source": [
    "from IPython.display import Image\n",
    "Image(workflow.get_graph().draw_mermaid_png())"
   ]
  }
 ],
 "metadata": {
  "kernelspec": {
   "display_name": "venv",
   "language": "python",
   "name": "python3"
  },
  "language_info": {
   "codemirror_mode": {
    "name": "ipython",
    "version": 3
   },
   "file_extension": ".py",
   "mimetype": "text/x-python",
   "name": "python",
   "nbconvert_exporter": "python",
   "pygments_lexer": "ipython3",
   "version": "3.10.12"
  }
 },
 "nbformat": 4,
 "nbformat_minor": 5
}
